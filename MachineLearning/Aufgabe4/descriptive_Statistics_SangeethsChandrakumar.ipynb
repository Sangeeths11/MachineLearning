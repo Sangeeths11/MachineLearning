{
 "cells": [
  {
   "cell_type": "markdown",
   "metadata": {},
   "source": [
    "## Descriptive Statistics"
   ]
  },
  {
   "cell_type": "markdown",
   "metadata": {},
   "source": [
    "### Author: Sangeeths Chandrakumar"
   ]
  },
  {
   "cell_type": "markdown",
   "metadata": {},
   "source": [
    "### Importieren der benötigten Bibliotheken"
   ]
  },
  {
   "cell_type": "code",
   "execution_count": 97,
   "metadata": {},
   "outputs": [],
   "source": [
    "# Import necessary libraries and load the dataset\n",
    "import numpy as np\n",
    "import pandas as pd\n",
    "from scipy import stats\n",
    "import statsmodels.api as sm\n",
    "import seaborn as sns\n",
    "import matplotlib.pyplot as plt\n",
    "import matplotlib.ticker as mtick\n",
    "import matplotlib.pyplot as plt\n",
    "import seaborn as sns\n",
    "from sklearn.preprocessing import StandardScaler\n",
    "from sklearn.preprocessing import OneHotEncoder, LabelEncoder\n",
    "import numpy as np\n",
    "from sklearn.preprocessing import MinMaxScaler"
   ]
  },
  {
   "cell_type": "markdown",
   "metadata": {},
   "source": [
    "### Laden der Daten"
   ]
  },
  {
   "cell_type": "code",
   "execution_count": 98,
   "metadata": {},
   "outputs": [
    {
     "name": "stdout",
     "output_type": "stream",
     "text": [
      "<class 'pandas.core.frame.DataFrame'>\n",
      "RangeIndex: 3755 entries, 0 to 3754\n",
      "Data columns (total 11 columns):\n",
      " #   Column              Non-Null Count  Dtype \n",
      "---  ------              --------------  ----- \n",
      " 0   work_year           3755 non-null   int64 \n",
      " 1   experience_level    3755 non-null   object\n",
      " 2   employment_type     3755 non-null   object\n",
      " 3   job_title           3755 non-null   object\n",
      " 4   salary              3755 non-null   int64 \n",
      " 5   salary_currency     3755 non-null   object\n",
      " 6   salary_in_usd       3755 non-null   int64 \n",
      " 7   employee_residence  3755 non-null   object\n",
      " 8   remote_ratio        3755 non-null   int64 \n",
      " 9   company_location    3755 non-null   object\n",
      " 10  company_size        3755 non-null   object\n",
      "dtypes: int64(4), object(7)\n",
      "memory usage: 322.8+ KB\n"
     ]
    }
   ],
   "source": [
    "ds_salaries_df = pd.read_csv('ds_salaries.csv')\n",
    "ds_salaries_df.info()"
   ]
  },
  {
   "cell_type": "code",
   "execution_count": 99,
   "metadata": {},
   "outputs": [
    {
     "data": {
      "text/html": [
       "<div>\n",
       "<style scoped>\n",
       "    .dataframe tbody tr th:only-of-type {\n",
       "        vertical-align: middle;\n",
       "    }\n",
       "\n",
       "    .dataframe tbody tr th {\n",
       "        vertical-align: top;\n",
       "    }\n",
       "\n",
       "    .dataframe thead th {\n",
       "        text-align: right;\n",
       "    }\n",
       "</style>\n",
       "<table border=\"1\" class=\"dataframe\">\n",
       "  <thead>\n",
       "    <tr style=\"text-align: right;\">\n",
       "      <th></th>\n",
       "      <th>work_year</th>\n",
       "      <th>experience_level</th>\n",
       "      <th>employment_type</th>\n",
       "      <th>job_title</th>\n",
       "      <th>salary</th>\n",
       "      <th>salary_currency</th>\n",
       "      <th>salary_in_usd</th>\n",
       "      <th>employee_residence</th>\n",
       "      <th>remote_ratio</th>\n",
       "      <th>company_location</th>\n",
       "      <th>company_size</th>\n",
       "    </tr>\n",
       "  </thead>\n",
       "  <tbody>\n",
       "    <tr>\n",
       "      <th>0</th>\n",
       "      <td>2023</td>\n",
       "      <td>SE</td>\n",
       "      <td>FT</td>\n",
       "      <td>Principal Data Scientist</td>\n",
       "      <td>80000</td>\n",
       "      <td>EUR</td>\n",
       "      <td>85847</td>\n",
       "      <td>ES</td>\n",
       "      <td>100</td>\n",
       "      <td>ES</td>\n",
       "      <td>L</td>\n",
       "    </tr>\n",
       "    <tr>\n",
       "      <th>1</th>\n",
       "      <td>2023</td>\n",
       "      <td>MI</td>\n",
       "      <td>CT</td>\n",
       "      <td>ML Engineer</td>\n",
       "      <td>30000</td>\n",
       "      <td>USD</td>\n",
       "      <td>30000</td>\n",
       "      <td>US</td>\n",
       "      <td>100</td>\n",
       "      <td>US</td>\n",
       "      <td>S</td>\n",
       "    </tr>\n",
       "    <tr>\n",
       "      <th>2</th>\n",
       "      <td>2023</td>\n",
       "      <td>MI</td>\n",
       "      <td>CT</td>\n",
       "      <td>ML Engineer</td>\n",
       "      <td>25500</td>\n",
       "      <td>USD</td>\n",
       "      <td>25500</td>\n",
       "      <td>US</td>\n",
       "      <td>100</td>\n",
       "      <td>US</td>\n",
       "      <td>S</td>\n",
       "    </tr>\n",
       "    <tr>\n",
       "      <th>3</th>\n",
       "      <td>2023</td>\n",
       "      <td>SE</td>\n",
       "      <td>FT</td>\n",
       "      <td>Data Scientist</td>\n",
       "      <td>175000</td>\n",
       "      <td>USD</td>\n",
       "      <td>175000</td>\n",
       "      <td>CA</td>\n",
       "      <td>100</td>\n",
       "      <td>CA</td>\n",
       "      <td>M</td>\n",
       "    </tr>\n",
       "    <tr>\n",
       "      <th>4</th>\n",
       "      <td>2023</td>\n",
       "      <td>SE</td>\n",
       "      <td>FT</td>\n",
       "      <td>Data Scientist</td>\n",
       "      <td>120000</td>\n",
       "      <td>USD</td>\n",
       "      <td>120000</td>\n",
       "      <td>CA</td>\n",
       "      <td>100</td>\n",
       "      <td>CA</td>\n",
       "      <td>M</td>\n",
       "    </tr>\n",
       "  </tbody>\n",
       "</table>\n",
       "</div>"
      ],
      "text/plain": [
       "   work_year experience_level employment_type                 job_title  \\\n",
       "0       2023               SE              FT  Principal Data Scientist   \n",
       "1       2023               MI              CT               ML Engineer   \n",
       "2       2023               MI              CT               ML Engineer   \n",
       "3       2023               SE              FT            Data Scientist   \n",
       "4       2023               SE              FT            Data Scientist   \n",
       "\n",
       "   salary salary_currency  salary_in_usd employee_residence  remote_ratio  \\\n",
       "0   80000             EUR          85847                 ES           100   \n",
       "1   30000             USD          30000                 US           100   \n",
       "2   25500             USD          25500                 US           100   \n",
       "3  175000             USD         175000                 CA           100   \n",
       "4  120000             USD         120000                 CA           100   \n",
       "\n",
       "  company_location company_size  \n",
       "0               ES            L  \n",
       "1               US            S  \n",
       "2               US            S  \n",
       "3               CA            M  \n",
       "4               CA            M  "
      ]
     },
     "execution_count": 99,
     "metadata": {},
     "output_type": "execute_result"
    }
   ],
   "source": [
    "ds_salaries_df.head()"
   ]
  },
  {
   "cell_type": "markdown",
   "metadata": {},
   "source": [
    "### Deskriptive Statistik für den Datensatz\n"
   ]
  },
  {
   "cell_type": "code",
   "execution_count": 100,
   "metadata": {},
   "outputs": [],
   "source": [
    "ds_salaries_desc = ds_salaries_df.describe(include='all')"
   ]
  },
  {
   "cell_type": "markdown",
   "metadata": {},
   "source": [
    "### Fehlenden Werte"
   ]
  },
  {
   "cell_type": "code",
   "execution_count": 101,
   "metadata": {},
   "outputs": [],
   "source": [
    "missing_values = ds_salaries_df.isnull().sum()"
   ]
  },
  {
   "cell_type": "markdown",
   "metadata": {},
   "source": [
    "### Zusammenfassung der deskriptiven Statistik und fehlenden Werte"
   ]
  },
  {
   "cell_type": "code",
   "execution_count": 102,
   "metadata": {},
   "outputs": [
    {
     "data": {
      "text/plain": [
       "(          work_year experience_level employment_type      job_title  \\\n",
       " count   3755.000000             3755            3755           3755   \n",
       " unique          NaN                4               4             93   \n",
       " top             NaN               SE              FT  Data Engineer   \n",
       " freq            NaN             2516            3718           1040   \n",
       " mean    2022.373635              NaN             NaN            NaN   \n",
       " std        0.691448              NaN             NaN            NaN   \n",
       " min     2020.000000              NaN             NaN            NaN   \n",
       " 25%     2022.000000              NaN             NaN            NaN   \n",
       " 50%     2022.000000              NaN             NaN            NaN   \n",
       " 75%     2023.000000              NaN             NaN            NaN   \n",
       " max     2023.000000              NaN             NaN            NaN   \n",
       " \n",
       "               salary salary_currency  salary_in_usd employee_residence  \\\n",
       " count   3.755000e+03            3755    3755.000000               3755   \n",
       " unique           NaN              20            NaN                 78   \n",
       " top              NaN             USD            NaN                 US   \n",
       " freq             NaN            3224            NaN               3004   \n",
       " mean    1.906956e+05             NaN  137570.389880                NaN   \n",
       " std     6.716765e+05             NaN   63055.625278                NaN   \n",
       " min     6.000000e+03             NaN    5132.000000                NaN   \n",
       " 25%     1.000000e+05             NaN   95000.000000                NaN   \n",
       " 50%     1.380000e+05             NaN  135000.000000                NaN   \n",
       " 75%     1.800000e+05             NaN  175000.000000                NaN   \n",
       " max     3.040000e+07             NaN  450000.000000                NaN   \n",
       " \n",
       "         remote_ratio company_location company_size  \n",
       " count    3755.000000             3755         3755  \n",
       " unique           NaN               72            3  \n",
       " top              NaN               US            M  \n",
       " freq             NaN             3040         3153  \n",
       " mean       46.271638              NaN          NaN  \n",
       " std        48.589050              NaN          NaN  \n",
       " min         0.000000              NaN          NaN  \n",
       " 25%         0.000000              NaN          NaN  \n",
       " 50%         0.000000              NaN          NaN  \n",
       " 75%       100.000000              NaN          NaN  \n",
       " max       100.000000              NaN          NaN  ,\n",
       " work_year             0\n",
       " experience_level      0\n",
       " employment_type       0\n",
       " job_title             0\n",
       " salary                0\n",
       " salary_currency       0\n",
       " salary_in_usd         0\n",
       " employee_residence    0\n",
       " remote_ratio          0\n",
       " company_location      0\n",
       " company_size          0\n",
       " dtype: int64)"
      ]
     },
     "execution_count": 102,
     "metadata": {},
     "output_type": "execute_result"
    }
   ],
   "source": [
    "ds_salaries_desc, missing_values"
   ]
  },
  {
   "cell_type": "markdown",
   "metadata": {},
   "source": [
    "### Nächste Schritte für die Datenaufbereitung\n",
    "Da es keine fehlenden Werte gibt, können wir uns auf andere Aspekte der Datenaufbereitung konzentrieren:\n",
    "\n",
    "1. Überprüfung auf Ausreißer: Insbesondere bei Gehaltsdaten können Ausreißer die Analyse verzerren.\n",
    "2. Transformation von kategorischen Daten: Einige Spalten enthalten kategorische Daten, die möglicherweise in numerische Werte umgewandelt werden müssen.\n",
    "3. Normalisierung oder Standardisierung: Dies kann für numerische Daten erforderlich sein, insbesondere wenn sie in Modellen verwendet werden sollen.\n",
    "Ich werde nun mit der Überprüfung auf Ausreißer beginnen.​"
   ]
  },
  {
   "cell_type": "markdown",
   "metadata": {},
   "source": [
    "Ich werde nun mit der Überprüfung auf Ausreißer beginnen.​"
   ]
  },
  {
   "cell_type": "code",
   "execution_count": 103,
   "metadata": {},
   "outputs": [
    {
     "data": {
      "image/png": "[encoded data removed]",
      "text/plain": [
       "<Figure size 1000x600 with 1 Axes>"
      ]
     },
     "metadata": {},
     "output_type": "display_data"
    }
   ],
   "source": [
    "# Einstellen des Plot-Stils\n",
    "sns.set(style=\"whitegrid\")\n",
    "\n",
    "# Erstellung eines Boxplots für das Gehalt in USD\n",
    "plt.figure(figsize=(10, 6))\n",
    "sns.boxplot(x=ds_salaries_df['salary_in_usd'])\n",
    "plt.title('Boxplot des Gehalts in USD')\n",
    "plt.show()\n"
   ]
  },
  {
   "cell_type": "markdown",
   "metadata": {},
   "source": [
    "Der Boxplot zeigt, dass es einige potenzielle Ausreißer im oberen Bereich der Gehälter gibt. Diese extrem hohen Gehälter könnten die Analyse verzerren, insbesondere bei der Berechnung von Durchschnittswerten oder anderen aggregierten Statistiken."
   ]
  },
  {
   "cell_type": "markdown",
   "metadata": {},
   "source": [
    "### Schritte zur Datenaufbereitung\n",
    "1. Behandlung von Ausreißern:\n",
    "Optionen: Entfernen, Begrenzen oder Beibehalten der Ausreißer.\n",
    "Empfehlung: Je nach Analyseziel kann es sinnvoll sein, die Ausreißer zu behalten (z.B. wenn sie reale Datenpunkte repräsentieren) oder sie zu entfernen/begrenzen (für eine allgemeinere Analyse).\n",
    "2. Transformation von kategorischen Daten:\n",
    "Spalten wie experience_level, employment_type, job_title, salary_currency, employee_residence, company_location und company_size enthalten kategorische Daten.\n",
    "Diese könnten in numerische Formate umgewandelt werden, z.B. durch One-Hot-Encoding oder Label-Encoding.\n",
    "3. Normalisierung oder Standardisierung:\n",
    "Wichtig, wenn die Daten in maschinellen Lernalgorithmen verwendet werden sollen.\n",
    "Die Gehaltsdaten könnten beispielsweise normalisiert oder standardisiert werden, um einen besseren Vergleich zu ermöglichen."
   ]
  },
  {
   "cell_type": "code",
   "execution_count": 104,
   "metadata": {},
   "outputs": [
    {
     "data": {
      "text/plain": [
       "(22, 3733)"
      ]
     },
     "execution_count": 104,
     "metadata": {},
     "output_type": "execute_result"
    }
   ],
   "source": [
    "# Identifizierung von Ausreißern im Gehalt (in USD) mit dem Z-Score\n",
    "z_scores = np.abs(stats.zscore(ds_salaries_df['salary_in_usd']))\n",
    "threshold = 3  # typischerweise ein Z-Score von 3 oder höher\n",
    "outliers = np.where(z_scores > threshold)\n",
    "\n",
    "# Anzahl der identifizierten Ausreißer\n",
    "num_outliers = len(outliers[0])\n",
    "\n",
    "# Entfernung der Ausreißer\n",
    "ds_salaries_clean = ds_salaries_df.drop(ds_salaries_df.index[outliers])\n",
    "\n",
    "# Anzahl der verbleibenden Datensätze nach der Entfernung der Ausreißer\n",
    "remaining_records = ds_salaries_clean.shape[0]\n",
    "\n",
    "num_outliers, remaining_records\n"
   ]
  },
  {
   "cell_type": "markdown",
   "metadata": {},
   "source": [
    "Nach der Entfernung der Ausreißer (basierend auf einem Z-Score-Grenzwert von 3) bleiben 3733 Datensätze übrig, während 22 Ausreißer entfernt wurden. Dieser Schritt hilft, die Daten ausgewogener und repräsentativer für allgemeine Analysen zu machen."
   ]
  },
  {
   "cell_type": "markdown",
   "metadata": {},
   "source": [
    "### Transformation von kategorischen Daten"
   ]
  },
  {
   "cell_type": "markdown",
   "metadata": {},
   "source": [
    "Ich werde One-Hot-Encoding für nominale Kategorien (wie job_title, salary_currency, employee_residence, company_location) und Label-Encoding für ordinale Kategorien (wie experience_level, employment_type, company_size) anwenden. Dies ermöglicht es uns, diese kategorischen Daten in zukünftigen Analysen effektiver zu nutzen"
   ]
  },
  {
   "cell_type": "code",
   "execution_count": 105,
   "metadata": {},
   "outputs": [
    {
     "name": "stderr",
     "output_type": "stream",
     "text": [
      "c:\\Users\\csang\\miniconda3\\envs\\fhgr\\lib\\site-packages\\sklearn\\preprocessing\\_encoders.py:828: FutureWarning: `sparse` was renamed to `sparse_output` in version 1.2 and will be removed in 1.4. `sparse_output` is ignored unless you leave `sparse` to its default value.\n",
      "  warnings.warn(\n",
      "c:\\Users\\csang\\miniconda3\\envs\\fhgr\\lib\\site-packages\\sklearn\\preprocessing\\_encoders.py:828: FutureWarning: `sparse` was renamed to `sparse_output` in version 1.2 and will be removed in 1.4. `sparse_output` is ignored unless you leave `sparse` to its default value.\n",
      "  warnings.warn(\n",
      "c:\\Users\\csang\\miniconda3\\envs\\fhgr\\lib\\site-packages\\sklearn\\preprocessing\\_encoders.py:828: FutureWarning: `sparse` was renamed to `sparse_output` in version 1.2 and will be removed in 1.4. `sparse_output` is ignored unless you leave `sparse` to its default value.\n",
      "  warnings.warn(\n",
      "c:\\Users\\csang\\miniconda3\\envs\\fhgr\\lib\\site-packages\\sklearn\\preprocessing\\_encoders.py:828: FutureWarning: `sparse` was renamed to `sparse_output` in version 1.2 and will be removed in 1.4. `sparse_output` is ignored unless you leave `sparse` to its default value.\n",
      "  warnings.warn(\n"
     ]
    },
    {
     "data": {
      "text/html": [
       "<div>\n",
       "<style scoped>\n",
       "    .dataframe tbody tr th:only-of-type {\n",
       "        vertical-align: middle;\n",
       "    }\n",
       "\n",
       "    .dataframe tbody tr th {\n",
       "        vertical-align: top;\n",
       "    }\n",
       "\n",
       "    .dataframe thead th {\n",
       "        text-align: right;\n",
       "    }\n",
       "</style>\n",
       "<table border=\"1\" class=\"dataframe\">\n",
       "  <thead>\n",
       "    <tr style=\"text-align: right;\">\n",
       "      <th></th>\n",
       "      <th>work_year</th>\n",
       "      <th>experience_level</th>\n",
       "      <th>employment_type</th>\n",
       "      <th>salary</th>\n",
       "      <th>salary_in_usd</th>\n",
       "      <th>remote_ratio</th>\n",
       "      <th>company_size</th>\n",
       "      <th>job_title_3D Computer Vision Researcher</th>\n",
       "      <th>job_title_AI Developer</th>\n",
       "      <th>job_title_AI Programmer</th>\n",
       "      <th>...</th>\n",
       "      <th>company_location_RU</th>\n",
       "      <th>company_location_SE</th>\n",
       "      <th>company_location_SG</th>\n",
       "      <th>company_location_SI</th>\n",
       "      <th>company_location_SK</th>\n",
       "      <th>company_location_TH</th>\n",
       "      <th>company_location_TR</th>\n",
       "      <th>company_location_UA</th>\n",
       "      <th>company_location_US</th>\n",
       "      <th>company_location_VN</th>\n",
       "    </tr>\n",
       "  </thead>\n",
       "  <tbody>\n",
       "    <tr>\n",
       "      <th>0</th>\n",
       "      <td>2023</td>\n",
       "      <td>3</td>\n",
       "      <td>2</td>\n",
       "      <td>80000</td>\n",
       "      <td>85847</td>\n",
       "      <td>100</td>\n",
       "      <td>0</td>\n",
       "      <td>0.0</td>\n",
       "      <td>0.0</td>\n",
       "      <td>0.0</td>\n",
       "      <td>...</td>\n",
       "      <td>0.0</td>\n",
       "      <td>0.0</td>\n",
       "      <td>0.0</td>\n",
       "      <td>0.0</td>\n",
       "      <td>0.0</td>\n",
       "      <td>0.0</td>\n",
       "      <td>0.0</td>\n",
       "      <td>0.0</td>\n",
       "      <td>0.0</td>\n",
       "      <td>0.0</td>\n",
       "    </tr>\n",
       "    <tr>\n",
       "      <th>1</th>\n",
       "      <td>2023</td>\n",
       "      <td>2</td>\n",
       "      <td>0</td>\n",
       "      <td>30000</td>\n",
       "      <td>30000</td>\n",
       "      <td>100</td>\n",
       "      <td>2</td>\n",
       "      <td>0.0</td>\n",
       "      <td>0.0</td>\n",
       "      <td>0.0</td>\n",
       "      <td>...</td>\n",
       "      <td>0.0</td>\n",
       "      <td>0.0</td>\n",
       "      <td>0.0</td>\n",
       "      <td>0.0</td>\n",
       "      <td>0.0</td>\n",
       "      <td>0.0</td>\n",
       "      <td>0.0</td>\n",
       "      <td>0.0</td>\n",
       "      <td>1.0</td>\n",
       "      <td>0.0</td>\n",
       "    </tr>\n",
       "    <tr>\n",
       "      <th>2</th>\n",
       "      <td>2023</td>\n",
       "      <td>2</td>\n",
       "      <td>0</td>\n",
       "      <td>25500</td>\n",
       "      <td>25500</td>\n",
       "      <td>100</td>\n",
       "      <td>2</td>\n",
       "      <td>0.0</td>\n",
       "      <td>0.0</td>\n",
       "      <td>0.0</td>\n",
       "      <td>...</td>\n",
       "      <td>0.0</td>\n",
       "      <td>0.0</td>\n",
       "      <td>0.0</td>\n",
       "      <td>0.0</td>\n",
       "      <td>0.0</td>\n",
       "      <td>0.0</td>\n",
       "      <td>0.0</td>\n",
       "      <td>0.0</td>\n",
       "      <td>1.0</td>\n",
       "      <td>0.0</td>\n",
       "    </tr>\n",
       "    <tr>\n",
       "      <th>3</th>\n",
       "      <td>2023</td>\n",
       "      <td>3</td>\n",
       "      <td>2</td>\n",
       "      <td>175000</td>\n",
       "      <td>175000</td>\n",
       "      <td>100</td>\n",
       "      <td>1</td>\n",
       "      <td>0.0</td>\n",
       "      <td>0.0</td>\n",
       "      <td>0.0</td>\n",
       "      <td>...</td>\n",
       "      <td>0.0</td>\n",
       "      <td>0.0</td>\n",
       "      <td>0.0</td>\n",
       "      <td>0.0</td>\n",
       "      <td>0.0</td>\n",
       "      <td>0.0</td>\n",
       "      <td>0.0</td>\n",
       "      <td>0.0</td>\n",
       "      <td>0.0</td>\n",
       "      <td>0.0</td>\n",
       "    </tr>\n",
       "    <tr>\n",
       "      <th>4</th>\n",
       "      <td>2023</td>\n",
       "      <td>3</td>\n",
       "      <td>2</td>\n",
       "      <td>120000</td>\n",
       "      <td>120000</td>\n",
       "      <td>100</td>\n",
       "      <td>1</td>\n",
       "      <td>0.0</td>\n",
       "      <td>0.0</td>\n",
       "      <td>0.0</td>\n",
       "      <td>...</td>\n",
       "      <td>0.0</td>\n",
       "      <td>0.0</td>\n",
       "      <td>0.0</td>\n",
       "      <td>0.0</td>\n",
       "      <td>0.0</td>\n",
       "      <td>0.0</td>\n",
       "      <td>0.0</td>\n",
       "      <td>0.0</td>\n",
       "      <td>0.0</td>\n",
       "      <td>0.0</td>\n",
       "    </tr>\n",
       "  </tbody>\n",
       "</table>\n",
       "<p>5 rows × 267 columns</p>\n",
       "</div>"
      ],
      "text/plain": [
       "   work_year  experience_level  employment_type  salary  salary_in_usd  \\\n",
       "0       2023                 3                2   80000          85847   \n",
       "1       2023                 2                0   30000          30000   \n",
       "2       2023                 2                0   25500          25500   \n",
       "3       2023                 3                2  175000         175000   \n",
       "4       2023                 3                2  120000         120000   \n",
       "\n",
       "   remote_ratio  company_size  job_title_3D Computer Vision Researcher  \\\n",
       "0           100             0                                      0.0   \n",
       "1           100             2                                      0.0   \n",
       "2           100             2                                      0.0   \n",
       "3           100             1                                      0.0   \n",
       "4           100             1                                      0.0   \n",
       "\n",
       "   job_title_AI Developer  job_title_AI Programmer  ...  company_location_RU  \\\n",
       "0                     0.0                      0.0  ...                  0.0   \n",
       "1                     0.0                      0.0  ...                  0.0   \n",
       "2                     0.0                      0.0  ...                  0.0   \n",
       "3                     0.0                      0.0  ...                  0.0   \n",
       "4                     0.0                      0.0  ...                  0.0   \n",
       "\n",
       "   company_location_SE  company_location_SG  company_location_SI  \\\n",
       "0                  0.0                  0.0                  0.0   \n",
       "1                  0.0                  0.0                  0.0   \n",
       "2                  0.0                  0.0                  0.0   \n",
       "3                  0.0                  0.0                  0.0   \n",
       "4                  0.0                  0.0                  0.0   \n",
       "\n",
       "   company_location_SK  company_location_TH  company_location_TR  \\\n",
       "0                  0.0                  0.0                  0.0   \n",
       "1                  0.0                  0.0                  0.0   \n",
       "2                  0.0                  0.0                  0.0   \n",
       "3                  0.0                  0.0                  0.0   \n",
       "4                  0.0                  0.0                  0.0   \n",
       "\n",
       "   company_location_UA  company_location_US  company_location_VN  \n",
       "0                  0.0                  0.0                  0.0  \n",
       "1                  0.0                  1.0                  0.0  \n",
       "2                  0.0                  1.0                  0.0  \n",
       "3                  0.0                  0.0                  0.0  \n",
       "4                  0.0                  0.0                  0.0  \n",
       "\n",
       "[5 rows x 267 columns]"
      ]
     },
     "execution_count": 105,
     "metadata": {},
     "output_type": "execute_result"
    }
   ],
   "source": [
    "# Initialisierung von Encodern\n",
    "onehot_encoder = OneHotEncoder(sparse=False)\n",
    "label_encoder = LabelEncoder()\n",
    "\n",
    "# Kategorien für One-Hot-Encoding und Label-Encoding\n",
    "onehot_categories = ['job_title', 'salary_currency', 'employee_residence', 'company_location']\n",
    "label_categories = ['experience_level', 'employment_type', 'company_size']\n",
    "\n",
    "# Anwendung von One-Hot-Encoding\n",
    "for category in onehot_categories:\n",
    "    # Encoding\n",
    "    encoded_data = onehot_encoder.fit_transform(ds_salaries_clean[[category]])\n",
    "\n",
    "    # Erstellen von neuen Spaltennamen für die kodierte Funktion\n",
    "    encoded_columns = [f\"{category}_{col}\" for col in onehot_encoder.categories_[0]]\n",
    "\n",
    "    # Hinzufügen der kodierten Daten zum DataFrame\n",
    "    ds_salaries_clean[encoded_columns] = pd.DataFrame(encoded_data, index=ds_salaries_clean.index)\n",
    "\n",
    "    # Entfernen der ursprünglichen kategorischen Spalte\n",
    "    ds_salaries_clean.drop(category, axis=1, inplace=True)\n",
    "\n",
    "# Anwendung von Label-Encoding\n",
    "for category in label_categories:\n",
    "    # Encoding\n",
    "    ds_salaries_clean[category] = label_encoder.fit_transform(ds_salaries_clean[category])\n",
    "\n",
    "# Anzeige der ersten Zeilen des aufbereiteten Datensatzes\n",
    "ds_salaries_clean.head()\n"
   ]
  },
  {
   "cell_type": "markdown",
   "metadata": {},
   "source": [
    "### Aufbereiteter Datensatz\n",
    "Der Datensatz wurde erfolgreich aufbereitet:\n",
    "\n",
    "1. Ausreißer entfernt: Insgesamt 22 Ausreißer wurden entfernt.\n",
    "2. Transformation von kategorischen Daten:\n",
    "One-Hot-Encoding wurde auf nominale Kategorien wie job_title, salary_currency, employee_residence, und company_location angewendet.\n",
    "Label-Encoding wurde auf ordinale Kategorien wie experience_level, employment_type, und company_size angewendet."
   ]
  },
  {
   "cell_type": "markdown",
   "metadata": {},
   "source": [
    "### Normalisierung der Gehaltsdaten\n",
    "Als letzter Schritt werde ich die Gehaltsdaten (salary_in_usd) normalisieren. Diese Normalisierung ist hilfreich, um die Gehälter auf einer gemeinsamen Skala zu betrachten, insbesondere wenn sie in statistischen Modellen verwendet werden. Ich werde die Min-Max-Normalisierung verwenden, die die Werte in einen Bereich zwischen 0 und 1 skaliert.​"
   ]
  },
  {
   "cell_type": "code",
   "execution_count": 106,
   "metadata": {},
   "outputs": [
    {
     "data": {
      "text/html": [
       "<div>\n",
       "<style scoped>\n",
       "    .dataframe tbody tr th:only-of-type {\n",
       "        vertical-align: middle;\n",
       "    }\n",
       "\n",
       "    .dataframe tbody tr th {\n",
       "        vertical-align: top;\n",
       "    }\n",
       "\n",
       "    .dataframe thead th {\n",
       "        text-align: right;\n",
       "    }\n",
       "</style>\n",
       "<table border=\"1\" class=\"dataframe\">\n",
       "  <thead>\n",
       "    <tr style=\"text-align: right;\">\n",
       "      <th></th>\n",
       "      <th>salary_in_usd</th>\n",
       "      <th>salary_in_usd_normalized</th>\n",
       "    </tr>\n",
       "  </thead>\n",
       "  <tbody>\n",
       "    <tr>\n",
       "      <th>0</th>\n",
       "      <td>85847</td>\n",
       "      <td>0.252338</td>\n",
       "    </tr>\n",
       "    <tr>\n",
       "      <th>1</th>\n",
       "      <td>30000</td>\n",
       "      <td>0.077745</td>\n",
       "    </tr>\n",
       "    <tr>\n",
       "      <th>2</th>\n",
       "      <td>25500</td>\n",
       "      <td>0.063676</td>\n",
       "    </tr>\n",
       "    <tr>\n",
       "      <th>3</th>\n",
       "      <td>175000</td>\n",
       "      <td>0.531057</td>\n",
       "    </tr>\n",
       "    <tr>\n",
       "      <th>4</th>\n",
       "      <td>120000</td>\n",
       "      <td>0.359111</td>\n",
       "    </tr>\n",
       "  </tbody>\n",
       "</table>\n",
       "</div>"
      ],
      "text/plain": [
       "   salary_in_usd  salary_in_usd_normalized\n",
       "0          85847                  0.252338\n",
       "1          30000                  0.077745\n",
       "2          25500                  0.063676\n",
       "3         175000                  0.531057\n",
       "4         120000                  0.359111"
      ]
     },
     "execution_count": 106,
     "metadata": {},
     "output_type": "execute_result"
    }
   ],
   "source": [
    "# Initialisierung des Min-Max-Scalers\n",
    "scaler = MinMaxScaler()\n",
    "\n",
    "# Normalisierung der Gehaltsdaten\n",
    "ds_salaries_clean['salary_in_usd_normalized'] = scaler.fit_transform(\n",
    "    ds_salaries_clean[['salary_in_usd']])\n",
    "\n",
    "# Anzeige der ersten Zeilen mit den normalisierten Gehaltsdaten\n",
    "ds_salaries_clean[['salary_in_usd', 'salary_in_usd_normalized']].head()\n"
   ]
  },
  {
   "cell_type": "markdown",
   "metadata": {},
   "source": [
    "Die Gehaltsdaten (salary_in_usd) wurden erfolgreich normalisiert. Die neue Spalte salary_in_usd_normalized zeigt die normalisierten Gehaltswerte, die jetzt zwischen 0 und 1 liegen. Diese Skalierung ermöglicht es, die Gehälter auf einer einheitlichen Skala zu vergleichen"
   ]
  }
 ],
 "metadata": {
  "kernelspec": {
   "display_name": "fhgr",
   "language": "python",
   "name": "python3"
  },
  "language_info": {
   "codemirror_mode": {
    "name": "ipython",
    "version": 3
   },
   "file_extension": ".py",
   "mimetype": "text/x-python",
   "name": "python",
   "nbconvert_exporter": "python",
   "pygments_lexer": "ipython3",
   "version": "3.10.9"
  }
 },
 "nbformat": 4,
 "nbformat_minor": 2
}
